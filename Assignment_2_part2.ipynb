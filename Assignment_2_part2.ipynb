{
 "cells": [
  {
   "cell_type": "code",
   "execution_count": 1,
   "id": "0adfdc9c",
   "metadata": {},
   "outputs": [],
   "source": [
    "# importing all the library \n",
    "# all are not used but i have still kept to avoid errors\n",
    "import pandas as pd\n",
    "import math\n",
    "import numpy as np\n",
    "from sklearn import metrics\n",
    "from sklearn.metrics import confusion_matrix,accuracy_score,classification_report\n",
    "from sklearn.model_selection import train_test_split,cross_val_score,KFold,StratifiedKFold\n",
    "from sklearn.tree import DecisionTreeClassifier,plot_tree,export_graphviz\n",
    "from sklearn.ensemble import RandomForestClassifier\n",
    "from sklearn import neighbors, metrics,datasets,svm,linear_model, tree, ensemble\n",
    "from sklearn.metrics import precision_score, recall_score, f1_score, accuracy_score\n",
    "from sklearn.datasets import make_classification,load_iris,load_digits\n",
    "from sklearn.metrics import roc_curve, roc_auc_score,plot_confusion_matrix\n",
    "from sklearn.model_selection import cross_val_score,ParameterGrid,GridSearchCV,train_test_split\n",
    "from sklearn.svm import SVC\n",
    "from sklearn import linear_model\n",
    "from sklearn.decomposition import TruncatedSVD\n",
    "from sklearn.feature_extraction.text import TfidfTransformer, TfidfVectorizer,HashingVectorizer, CountVectorizer\n",
    "from sklearn.metrics import ConfusionMatrixDisplay\n",
    "from sklearn.pipeline import Pipeline, make_pipeline\n",
    "from sklearn.linear_model import LogisticRegression,Perceptron\n",
    "from sklearn.naive_bayes import GaussianNB\n",
    "from sklearn.model_selection import RandomizedSearchCV,train_test_split\n",
    "from sklearn.preprocessing import LabelEncoder,OneHotEncoder,Normalizer,StandardScaler\n",
    "\n",
    "import matplotlib.pyplot as plt\n",
    "from scipy.stats.mstats import gmean\n",
    "from numpy import mean,std\n",
    "from matplotlib.colors import ListedColormap\n",
    "from imblearn.over_sampling import SMOTE \n",
    "from tensorflow import keras\n",
    "import tensorflow.keras as keras\n",
    "from tensorflow.keras.datasets import mnist\n",
    "from tensorflow.keras.models import Sequential\n",
    "from tensorflow.keras.layers import Dense, Dropout, Flatten ,Conv2D, MaxPooling2D\n",
    "from tensorflow.keras import backend as K\n",
    "import tensorflow as tf\n",
    "from tensorflow.keras import layers\n",
    "import tensorflow_datasets as tfds\n",
    "\n",
    "from keras import layers\n",
    "from keras.backend import clear_session\n",
    "from keras.preprocessing.text import Tokenizer\n",
    "from keras.models import Sequential,Model\n",
    "from keras import layers\n",
    "from keras.wrappers.scikit_learn import KerasClassifier\n",
    "from keras_preprocessing.sequence import pad_sequences\n",
    "import keras\n",
    "from keras.layers import Dense, Activation, concatenate, Embedding, Input\n",
    "\n",
    "import matplotlib.pyplot as plt"
   ]
  },
  {
   "cell_type": "code",
   "execution_count": 2,
   "id": "8c273fd6",
   "metadata": {},
   "outputs": [],
   "source": [
    "import matplotlib.pyplot as plt\n",
    "plt.style.use('ggplot')\n",
    "\n",
    "def plot_history(history):\n",
    "    acc = history.history['accuracy']\n",
    "    val_acc = history.history['val_accuracy']\n",
    "    loss = history.history['loss']\n",
    "    val_loss = history.history['val_loss']\n",
    "    x = range(1, len(acc) + 1)\n",
    "\n",
    "    plt.figure(figsize=(12, 5))\n",
    "    plt.subplot(1, 2, 1)\n",
    "    plt.plot(x, acc, 'b', label='Training acc')\n",
    "    plt.plot(x, val_acc, 'r', label='Validation acc')\n",
    "    plt.title('Training and validation accuracy')\n",
    "    plt.legend()\n",
    "    plt.subplot(1, 2, 2)\n",
    "    plt.plot(x, loss, 'b', label='Training loss')\n",
    "    plt.plot(x, val_loss, 'r', label='Validation loss')\n",
    "    plt.title('Training and validation loss')\n",
    "    plt.legend()"
   ]
  },
  {
   "cell_type": "code",
   "execution_count": 3,
   "id": "2a5eb386",
   "metadata": {},
   "outputs": [],
   "source": [
    "# Train set \n",
    "train_data=fetch_20newsgroups(subset='train')\n",
    "train_feat=train_data.data\n",
    "train_label=train_data.target"
   ]
  },
  {
   "cell_type": "code",
   "execution_count": 4,
   "id": "fc2a00cf",
   "metadata": {},
   "outputs": [],
   "source": [
    "# Test set \n",
    "test_data=fetch_20newsgroups(subset='test')\n",
    "test_fech=test_data.data\n",
    "test_label=test_data.target"
   ]
  },
  {
   "cell_type": "code",
   "execution_count": 5,
   "id": "9efb6bc2",
   "metadata": {},
   "outputs": [],
   "source": [
    "news20_classes=train_data.target_names\n",
    "num_class=len(news20_classes)"
   ]
  },
  {
   "cell_type": "code",
   "execution_count": 6,
   "id": "b1a0d285",
   "metadata": {},
   "outputs": [],
   "source": [
    "#using keras.utils.to_categorical \n",
    "y_train_catego = keras.utils.to_categorical(train_label, num_class)\n",
    "test_y= keras.utils.to_categorical(test_label, num_class)"
   ]
  },
  {
   "cell_type": "code",
   "execution_count": 7,
   "id": "d77ff286",
   "metadata": {},
   "outputs": [],
   "source": [
    "# splitting the data at 20 % and 80%\n",
    "X_train,X_val,y_train,y_val=train_test_split(train_feat,y_train_catego,test_size=0.2,random_state=42,stratify=y_train_catego)"
   ]
  },
  {
   "cell_type": "code",
   "execution_count": 8,
   "id": "701cf25a",
   "metadata": {},
   "outputs": [
    {
     "name": "stdout",
     "output_type": "stream",
     "text": [
      "Train data shape (9051, 5000)\n",
      "Validation data shape (2263, 5000)\n"
     ]
    }
   ],
   "source": [
    "#setting the parrameter for tokenizing\n",
    "num_words=5000\n",
    "tokenizer=Tokenizer(num_words=num_words)\n",
    "tokenizer.fit_on_texts(X_train)\n",
    "X_train=tokenizer.texts_to_matrix(X_train,mode='tfidf')\n",
    "X_val=tokenizer.texts_to_matrix(X_val,mode='tfidf')\n",
    "X_test=tokenizer.texts_to_matrix(test_fech,mode='tfidf')\n",
    "# printing the train & validation data set using .shape\n",
    "print('Train data shape',X_train.shape)\n",
    "print('Validation data shape',X_val.shape)"
   ]
  },
  {
   "cell_type": "code",
   "execution_count": 21,
   "id": "d5af971f",
   "metadata": {},
   "outputs": [
    {
     "name": "stdout",
     "output_type": "stream",
     "text": [
      "119286\n",
      "Model: \"sequential_2\"\n",
      "_________________________________________________________________\n",
      " Layer (type)                Output Shape              Param #   \n",
      "=================================================================\n",
      " embedding_1 (Embedding)     (None, 50, 300)           35785800  \n",
      "                                                                 \n",
      " flatten_1 (Flatten)         (None, 15000)             0         \n",
      "                                                                 \n",
      " dense_5 (Dense)             (None, 100)               1500100   \n",
      "                                                                 \n",
      " dense_6 (Dense)             (None, 10)                1010      \n",
      "                                                                 \n",
      " dense_7 (Dense)             (None, 1)                 11        \n",
      "                                                                 \n",
      "=================================================================\n",
      "Total params: 37,286,921\n",
      "Trainable params: 37,286,921\n",
      "Non-trainable params: 0\n",
      "_________________________________________________________________\n"
     ]
    }
   ],
   "source": [
    "embedding_dim = 300\n",
    "maxlen=50\n",
    "vocab_size = len(tokenizer.word_index) + 1\n",
    "print(vocab_size)\n",
    "\n",
    "model = Sequential()\n",
    "model.add(layers.Embedding(input_dim=vocab_size,output_dim=embedding_dim, input_length=maxlen))\n",
    "model.add(layers.Flatten())\n",
    "model.add(layers.Dense(100, activation='relu'))\n",
    "model.add(layers.Dense(10, activation='relu'))\n",
    "model.add(layers.Dense(1, activation='sigmoid'))\n",
    "model.compile(optimizer='adam',\n",
    "              loss='binary_crossentropy',\n",
    "              metrics=['accuracy'])\n",
    "model.summary()"
   ]
  },
  {
   "cell_type": "code",
   "execution_count": 26,
   "id": "608d1830",
   "metadata": {},
   "outputs": [
    {
     "data": {
      "text/plain": [
       "(2263, 20)"
      ]
     },
     "execution_count": 26,
     "metadata": {},
     "output_type": "execute_result"
    }
   ],
   "source": [
    "y_val.shape"
   ]
  },
  {
   "cell_type": "code",
   "execution_count": 27,
   "id": "95198fff",
   "metadata": {},
   "outputs": [],
   "source": [
    "def Model_mlp(vectorize_format,num_class,mlp_structure,dropout_rate,vocab_size,embedding_dim,maxlen):\n",
    "    model=keras.Sequential()\n",
    "    if vectorize_format=='sequence':\n",
    "        model.add(layers.Embedding(input_dim=vocab_size,output_dim=embedding_dim, input_length=maxlen,trainable=True))\n",
    "        model.add(layers.GlobalMaxPooling1D())\n",
    "    else:\n",
    "        model.add(keras.Input(shape=(num_words,)))\n",
    "        \n",
    "    for n_units in mlp_structure:\n",
    "        model.add(layers.Dense(n_units,activation='relu'))\n",
    "        model.add(layers.Dropout(dropout_rate))\n",
    "        \n",
    "    model.add(layers.Dense(num_class,activation='softmax'))\n",
    "    \n",
    "    model.compile(optimizer='adam',\n",
    "              loss='categorical_crossentropy',\n",
    "              metrics=['accuracy'])\n",
    "    return model"
   ]
  },
  {
   "cell_type": "code",
   "execution_count": 28,
   "id": "87767525",
   "metadata": {},
   "outputs": [
    {
     "name": "stdout",
     "output_type": "stream",
     "text": [
      "119286\n",
      "Model: \"sequential_3\"\n",
      "_________________________________________________________________\n",
      " Layer (type)                Output Shape              Param #   \n",
      "=================================================================\n",
      " dense_8 (Dense)             (None, 256)               1280256   \n",
      "                                                                 \n",
      " dropout_2 (Dropout)         (None, 256)               0         \n",
      "                                                                 \n",
      " dense_9 (Dense)             (None, 128)               32896     \n",
      "                                                                 \n",
      " dropout_3 (Dropout)         (None, 128)               0         \n",
      "                                                                 \n",
      " dense_10 (Dense)            (None, 20)                2580      \n",
      "                                                                 \n",
      "=================================================================\n",
      "Total params: 1,315,732\n",
      "Trainable params: 1,315,732\n",
      "Non-trainable params: 0\n",
      "_________________________________________________________________\n"
     ]
    }
   ],
   "source": [
    "embedding_dim = 600\n",
    "maxlen=100\n",
    "vocab_size = len(tokenizer.word_index) + 1\n",
    "print(vocab_size)\n",
    "mlp_structure=[256,128]\n",
    "baseline = Model_mlp(vectorize_format='tfidf',num_class=num_class,mlp_structure=mlp_structure,\n",
    "                           dropout_rate=0.2,vocab_size=None,embedding_dim=None, maxlen=None)\n",
    "baseline.summary()"
   ]
  },
  {
   "cell_type": "code",
   "execution_count": 29,
   "id": "aad77249",
   "metadata": {},
   "outputs": [
    {
     "name": "stdout",
     "output_type": "stream",
     "text": [
      "Epoch 1/5\n",
      "906/906 [==============================] - 6s 7ms/step - loss: 1.1283 - accuracy: 0.7020 - val_loss: 0.6461 - val_accuracy: 0.8299\n",
      "Epoch 2/5\n",
      "906/906 [==============================] - 6s 6ms/step - loss: 0.3174 - accuracy: 0.9288 - val_loss: 0.6995 - val_accuracy: 0.8303\n",
      "Epoch 3/5\n",
      "906/906 [==============================] - 6s 7ms/step - loss: 0.1920 - accuracy: 0.9603 - val_loss: 0.6841 - val_accuracy: 0.8418\n",
      "Epoch 4/5\n",
      "906/906 [==============================] - 7s 7ms/step - loss: 0.0889 - accuracy: 0.9786 - val_loss: 0.7530 - val_accuracy: 0.8537\n",
      "Epoch 5/5\n",
      "906/906 [==============================] - 6s 7ms/step - loss: 0.1498 - accuracy: 0.9745 - val_loss: 0.9346 - val_accuracy: 0.8418\n"
     ]
    }
   ],
   "source": [
    "history=baseline.fit(X_train, y_train, batch_size=10, epochs=5, validation_data=(X_val,y_val))"
   ]
  },
  {
   "cell_type": "code",
   "execution_count": 30,
   "id": "cce42e1a",
   "metadata": {},
   "outputs": [
    {
     "name": "stdout",
     "output_type": "stream",
     "text": [
      "Training Accuracy: 0.9956\n",
      "Validation Accuracy:  0.8418\n"
     ]
    },
    {
     "data": {
      "image/png": "[encoded data removed]",
      "text/plain": [
       "<Figure size 864x360 with 2 Axes>"
      ]
     },
     "metadata": {
      "needs_background": "light"
     },
     "output_type": "display_data"
    }
   ],
   "source": [
    "# printing the plots \n",
    "loss, accuracy = baseline.evaluate(X_train, y_train, verbose=False)\n",
    "print(\"Training Accuracy: {:.4f}\".format(accuracy))\n",
    "loss, accuracy = baseline.evaluate(X_val, y_val, verbose=False)\n",
    "print(\"Validation Accuracy:  {:.4f}\".format(accuracy))\n",
    "plot_history(history)"
   ]
  },
  {
   "cell_type": "markdown",
   "id": "b0473a8f",
   "metadata": {},
   "source": [
    "# Model Tunining "
   ]
  },
  {
   "cell_type": "code",
   "execution_count": 82,
   "id": "96d11204",
   "metadata": {},
   "outputs": [],
   "source": [
    "# setting parameters \n",
    "batch_size = [64]\n",
    "epochs = [5]"
   ]
  },
  {
   "cell_type": "code",
   "execution_count": 83,
   "id": "7eade3b4",
   "metadata": {},
   "outputs": [],
   "source": [
    "param_grid = dict(batch_size=batch_size, epochs=epochs)"
   ]
  },
  {
   "cell_type": "code",
   "execution_count": 84,
   "id": "0c7dd721",
   "metadata": {},
   "outputs": [],
   "source": [
    "from scikeras.wrappers import KerasClassifier"
   ]
  },
  {
   "cell_type": "code",
   "execution_count": 85,
   "id": "43b5d830",
   "metadata": {},
   "outputs": [],
   "source": [
    "model = KerasClassifier(build_fn=baseline,\n",
    "                            epochs=epochs, batch_size=10,\n",
    "                            verbose=False)"
   ]
  },
  {
   "cell_type": "code",
   "execution_count": 86,
   "id": "98e376ae",
   "metadata": {},
   "outputs": [],
   "source": [
    "grid = GridSearchCV(estimator=model, param_grid=param_grid,\n",
    "                              cv=10, verbose=1,scoring='accuracy')"
   ]
  },
  {
   "cell_type": "code",
   "execution_count": 87,
   "id": "baa27cb5",
   "metadata": {
    "scrolled": true
   },
   "outputs": [
    {
     "name": "stdout",
     "output_type": "stream",
     "text": [
      "INFO:tensorflow:Assets written to: C:\\Users\\DHRUVJ~1\\AppData\\Local\\Temp\\tmpy2t3r2fi\\assets\n",
      "Fitting 10 folds for each of 1 candidates, totalling 10 fits\n",
      "INFO:tensorflow:Assets written to: C:\\Users\\DHRUVJ~1\\AppData\\Local\\Temp\\tmpa4d0y2z6\\assets\n"
     ]
    },
    {
     "name": "stderr",
     "output_type": "stream",
     "text": [
      "C:\\Users\\Dhruv Jain\\anaconda3\\lib\\site-packages\\scikeras\\wrappers.py:301: UserWarning: ``build_fn`` will be renamed to ``model`` in a future release, at which point use of ``build_fn`` will raise an Error instead.\n",
      "  warnings.warn(\n"
     ]
    },
    {
     "name": "stdout",
     "output_type": "stream",
     "text": [
      "INFO:tensorflow:Assets written to: C:\\Users\\DHRUVJ~1\\AppData\\Local\\Temp\\tmpzp9o5mx7\\assets\n"
     ]
    },
    {
     "name": "stderr",
     "output_type": "stream",
     "text": [
      "C:\\Users\\Dhruv Jain\\anaconda3\\lib\\site-packages\\scikeras\\wrappers.py:301: UserWarning: ``build_fn`` will be renamed to ``model`` in a future release, at which point use of ``build_fn`` will raise an Error instead.\n",
      "  warnings.warn(\n"
     ]
    },
    {
     "name": "stdout",
     "output_type": "stream",
     "text": [
      "INFO:tensorflow:Assets written to: C:\\Users\\DHRUVJ~1\\AppData\\Local\\Temp\\tmp0qe_slnp\\assets\n"
     ]
    },
    {
     "name": "stderr",
     "output_type": "stream",
     "text": [
      "C:\\Users\\Dhruv Jain\\anaconda3\\lib\\site-packages\\scikeras\\wrappers.py:301: UserWarning: ``build_fn`` will be renamed to ``model`` in a future release, at which point use of ``build_fn`` will raise an Error instead.\n",
      "  warnings.warn(\n"
     ]
    },
    {
     "name": "stdout",
     "output_type": "stream",
     "text": [
      "INFO:tensorflow:Assets written to: C:\\Users\\DHRUVJ~1\\AppData\\Local\\Temp\\tmprt2v5y5k\\assets\n"
     ]
    },
    {
     "name": "stderr",
     "output_type": "stream",
     "text": [
      "C:\\Users\\Dhruv Jain\\anaconda3\\lib\\site-packages\\scikeras\\wrappers.py:301: UserWarning: ``build_fn`` will be renamed to ``model`` in a future release, at which point use of ``build_fn`` will raise an Error instead.\n",
      "  warnings.warn(\n"
     ]
    },
    {
     "name": "stdout",
     "output_type": "stream",
     "text": [
      "INFO:tensorflow:Assets written to: C:\\Users\\DHRUVJ~1\\AppData\\Local\\Temp\\tmp77rfzvf0\\assets\n"
     ]
    },
    {
     "name": "stderr",
     "output_type": "stream",
     "text": [
      "C:\\Users\\Dhruv Jain\\anaconda3\\lib\\site-packages\\scikeras\\wrappers.py:301: UserWarning: ``build_fn`` will be renamed to ``model`` in a future release, at which point use of ``build_fn`` will raise an Error instead.\n",
      "  warnings.warn(\n"
     ]
    },
    {
     "name": "stdout",
     "output_type": "stream",
     "text": [
      "INFO:tensorflow:Assets written to: C:\\Users\\DHRUVJ~1\\AppData\\Local\\Temp\\tmp18_dm2ih\\assets\n"
     ]
    },
    {
     "name": "stderr",
     "output_type": "stream",
     "text": [
      "C:\\Users\\Dhruv Jain\\anaconda3\\lib\\site-packages\\scikeras\\wrappers.py:301: UserWarning: ``build_fn`` will be renamed to ``model`` in a future release, at which point use of ``build_fn`` will raise an Error instead.\n",
      "  warnings.warn(\n"
     ]
    },
    {
     "name": "stdout",
     "output_type": "stream",
     "text": [
      "INFO:tensorflow:Assets written to: C:\\Users\\DHRUVJ~1\\AppData\\Local\\Temp\\tmppe8s0psq\\assets\n"
     ]
    },
    {
     "name": "stderr",
     "output_type": "stream",
     "text": [
      "C:\\Users\\Dhruv Jain\\anaconda3\\lib\\site-packages\\scikeras\\wrappers.py:301: UserWarning: ``build_fn`` will be renamed to ``model`` in a future release, at which point use of ``build_fn`` will raise an Error instead.\n",
      "  warnings.warn(\n"
     ]
    },
    {
     "name": "stdout",
     "output_type": "stream",
     "text": [
      "INFO:tensorflow:Assets written to: C:\\Users\\DHRUVJ~1\\AppData\\Local\\Temp\\tmpovn37s1t\\assets\n"
     ]
    },
    {
     "name": "stderr",
     "output_type": "stream",
     "text": [
      "C:\\Users\\Dhruv Jain\\anaconda3\\lib\\site-packages\\scikeras\\wrappers.py:301: UserWarning: ``build_fn`` will be renamed to ``model`` in a future release, at which point use of ``build_fn`` will raise an Error instead.\n",
      "  warnings.warn(\n"
     ]
    },
    {
     "name": "stdout",
     "output_type": "stream",
     "text": [
      "INFO:tensorflow:Assets written to: C:\\Users\\DHRUVJ~1\\AppData\\Local\\Temp\\tmps5gkar30\\assets\n"
     ]
    },
    {
     "name": "stderr",
     "output_type": "stream",
     "text": [
      "C:\\Users\\Dhruv Jain\\anaconda3\\lib\\site-packages\\scikeras\\wrappers.py:301: UserWarning: ``build_fn`` will be renamed to ``model`` in a future release, at which point use of ``build_fn`` will raise an Error instead.\n",
      "  warnings.warn(\n"
     ]
    },
    {
     "name": "stdout",
     "output_type": "stream",
     "text": [
      "INFO:tensorflow:Assets written to: C:\\Users\\DHRUVJ~1\\AppData\\Local\\Temp\\tmpj7atyj34\\assets\n"
     ]
    },
    {
     "name": "stderr",
     "output_type": "stream",
     "text": [
      "C:\\Users\\Dhruv Jain\\anaconda3\\lib\\site-packages\\scikeras\\wrappers.py:301: UserWarning: ``build_fn`` will be renamed to ``model`` in a future release, at which point use of ``build_fn`` will raise an Error instead.\n",
      "  warnings.warn(\n"
     ]
    },
    {
     "name": "stdout",
     "output_type": "stream",
     "text": [
      "INFO:tensorflow:Assets written to: C:\\Users\\DHRUVJ~1\\AppData\\Local\\Temp\\tmpe593w5tt\\assets\n",
      "INFO:tensorflow:Assets written to: C:\\Users\\DHRUVJ~1\\AppData\\Local\\Temp\\tmpyzpvj6mk\\assets\n"
     ]
    },
    {
     "name": "stderr",
     "output_type": "stream",
     "text": [
      "C:\\Users\\Dhruv Jain\\anaconda3\\lib\\site-packages\\scikeras\\wrappers.py:301: UserWarning: ``build_fn`` will be renamed to ``model`` in a future release, at which point use of ``build_fn`` will raise an Error instead.\n",
      "  warnings.warn(\n"
     ]
    }
   ],
   "source": [
    "# using 10 fits to get better acuuracy at end \n",
    "grid_result = grid.fit(X_train, y_train)"
   ]
  },
  {
   "cell_type": "code",
   "execution_count": 44,
   "id": "550eb356",
   "metadata": {},
   "outputs": [],
   "source": [
    "val_acc = grid_result.score(X_val, y_val)"
   ]
  },
  {
   "cell_type": "code",
   "execution_count": 45,
   "id": "29788717",
   "metadata": {},
   "outputs": [
    {
     "name": "stdout",
     "output_type": "stream",
     "text": [
      "0.8572691117984975\n"
     ]
    }
   ],
   "source": [
    "# printing the vali accuracy\n",
    "print(val_acc)"
   ]
  },
  {
   "cell_type": "code",
   "execution_count": 46,
   "id": "e983cb93",
   "metadata": {},
   "outputs": [],
   "source": [
    "train_acc=grid.score(X_train,y_train)"
   ]
  },
  {
   "cell_type": "code",
   "execution_count": 47,
   "id": "e7c920bf",
   "metadata": {},
   "outputs": [
    {
     "name": "stdout",
     "output_type": "stream",
     "text": [
      "0.9981217545022649\n"
     ]
    }
   ],
   "source": [
    "print(train_acc)"
   ]
  },
  {
   "cell_type": "code",
   "execution_count": 48,
   "id": "75682ff5",
   "metadata": {},
   "outputs": [
    {
     "data": {
      "text/plain": [
       "0.9783458344004975"
      ]
     },
     "execution_count": 48,
     "metadata": {},
     "output_type": "execute_result"
    }
   ],
   "source": [
    "grid_result.best_score_"
   ]
  },
  {
   "cell_type": "code",
   "execution_count": 49,
   "id": "9d737816",
   "metadata": {},
   "outputs": [
    {
     "data": {
      "text/plain": [
       "{'batch_size': 10, 'epochs': 5}"
      ]
     },
     "execution_count": 49,
     "metadata": {},
     "output_type": "execute_result"
    }
   ],
   "source": [
    "grid_result.best_params_"
   ]
  },
  {
   "cell_type": "code",
   "execution_count": 50,
   "id": "9b5bb377",
   "metadata": {},
   "outputs": [
    {
     "name": "stdout",
     "output_type": "stream",
     "text": [
      "236/236 [==============================] - 1s 2ms/step\n"
     ]
    }
   ],
   "source": [
    "testy=baseline.predict(X_test)"
   ]
  },
  {
   "cell_type": "code",
   "execution_count": 51,
   "id": "216c251d",
   "metadata": {},
   "outputs": [],
   "source": [
    "yhat_probs = baseline.predict(X_test, verbose=0)\n",
    "# predict crisp classes for test set\n",
    "yhat_classes = np.argmax(baseline.predict(X_test, verbose=0),axis=-1)"
   ]
  },
  {
   "cell_type": "code",
   "execution_count": 52,
   "id": "29c08382",
   "metadata": {},
   "outputs": [],
   "source": [
    "yhat_probs = yhat_probs[:, 0]"
   ]
  },
  {
   "cell_type": "code",
   "execution_count": 53,
   "id": "8321b64a",
   "metadata": {},
   "outputs": [
    {
     "data": {
      "text/plain": [
       "numpy.ndarray"
      ]
     },
     "execution_count": 53,
     "metadata": {},
     "output_type": "execute_result"
    }
   ],
   "source": [
    "type(yhat_classes)"
   ]
  },
  {
   "cell_type": "code",
   "execution_count": 81,
   "id": "978b7ce0",
   "metadata": {},
   "outputs": [
    {
     "data": {
      "text/plain": [
       "array([ 4, 18,  0, ...,  9, 12, 15], dtype=int64)"
      ]
     },
     "execution_count": 81,
     "metadata": {},
     "output_type": "execute_result"
    }
   ],
   "source": [
    "(yhat_probs).shape\n",
    "yhat_classes.shape\n",
    "test_y_1.shape\n",
    "test_y_1\n",
    "yhat_classes"
   ]
  },
  {
   "cell_type": "code",
   "execution_count": 66,
   "id": "0546cf2e",
   "metadata": {},
   "outputs": [],
   "source": [
    "test_y_1 = test_y[:, 0]"
   ]
  },
  {
   "cell_type": "code",
   "execution_count": 67,
   "id": "8cac6885",
   "metadata": {},
   "outputs": [],
   "source": [
    "yhat_onehot=keras.utils.to_categorical(yhat_classes, num_class)"
   ]
  },
  {
   "cell_type": "code",
   "execution_count": 68,
   "id": "9695d85a",
   "metadata": {},
   "outputs": [
    {
     "data": {
      "text/plain": [
       "(7532, 20)"
      ]
     },
     "execution_count": 68,
     "metadata": {},
     "output_type": "execute_result"
    }
   ],
   "source": [
    "yhat_onehot.shape"
   ]
  },
  {
   "cell_type": "code",
   "execution_count": 69,
   "id": "8b4da70d",
   "metadata": {},
   "outputs": [],
   "source": [
    "yhat_onehot=yhat_onehot[:,0]"
   ]
  },
  {
   "cell_type": "code",
   "execution_count": 70,
   "id": "33764a0a",
   "metadata": {},
   "outputs": [
    {
     "name": "stdout",
     "output_type": "stream",
     "text": [
      "Accuracy: 0.978359\n",
      "Precision: 0.976743\n",
      "Recall: 0.978359\n",
      "F1 score: 0.977015\n"
     ]
    }
   ],
   "source": [
    "accuracy = accuracy_score(test_y_1, yhat_onehot)\n",
    "print('Accuracy: %f' % accuracy)\n",
    "# precision tp / (tp + fp)\n",
    "precision = precision_score(test_y_1, yhat_onehot,average='weighted')\n",
    "print('Precision: %f' % precision)\n",
    "# recall: tp / (tp + fn)\n",
    "recall = recall_score(test_y_1, yhat_onehot,average='weighted')\n",
    "print('Recall: %f' % recall)\n",
    "# f1: 2 tp / (2 tp + fp + fn)\n",
    "f1 = f1_score(test_y_1, yhat_onehot,average='weighted')\n",
    "print('F1 score: %f' % f1)"
   ]
  },
  {
   "cell_type": "code",
   "execution_count": 71,
   "id": "edda1d83",
   "metadata": {},
   "outputs": [],
   "source": [
    "yhat_probs = grid_result.predict(X_test)\n",
    "# predict crisp classes for test set\n",
    "yhat_classes = np.argmax(grid_result.predict(X_test),axis=-1)"
   ]
  },
  {
   "cell_type": "code",
   "execution_count": 73,
   "id": "9d8ff391",
   "metadata": {},
   "outputs": [
    {
     "data": {
      "text/plain": [
       "numpy.ndarray"
      ]
     },
     "execution_count": 73,
     "metadata": {},
     "output_type": "execute_result"
    }
   ],
   "source": [
    "yhat_probs = yhat_probs[:, 0]\n",
    "type(yhat_classes)"
   ]
  },
  {
   "cell_type": "code",
   "execution_count": 74,
   "id": "bbaa4932",
   "metadata": {},
   "outputs": [
    {
     "data": {
      "text/plain": [
       "(7532,)"
      ]
     },
     "execution_count": 74,
     "metadata": {},
     "output_type": "execute_result"
    }
   ],
   "source": [
    "yhat_classes.shape"
   ]
  },
  {
   "cell_type": "code",
   "execution_count": 75,
   "id": "564427c4",
   "metadata": {},
   "outputs": [],
   "source": [
    "yhat_onehot=keras.utils.to_categorical(yhat_classes, num_class)\n",
    "yhat_onehot=yhat_onehot[:,0]"
   ]
  },
  {
   "cell_type": "code",
   "execution_count": 77,
   "id": "1fbf4b66",
   "metadata": {},
   "outputs": [
    {
     "data": {
      "text/plain": [
       "(7532,)"
      ]
     },
     "execution_count": 77,
     "metadata": {},
     "output_type": "execute_result"
    }
   ],
   "source": [
    "yhat_onehot.shape"
   ]
  },
  {
   "cell_type": "code",
   "execution_count": 78,
   "id": "ba9cfdc0",
   "metadata": {},
   "outputs": [
    {
     "name": "stdout",
     "output_type": "stream",
     "text": [
      "Accuracy: 0.975969\n",
      "Precision: 0.977256\n",
      "Recall: 0.975969\n",
      "F1 score: 0.976533\n"
     ]
    }
   ],
   "source": [
    "accuracy = accuracy_score(test_y_1, yhat_onehot)\n",
    "print('Accuracy: %f' % accuracy)\n",
    "# precision tp / (tp + fp)\n",
    "precision = precision_score(test_y_1, yhat_onehot,average='weighted')\n",
    "print('Precision: %f' % precision)\n",
    "# recall: tp / (tp + fn)\n",
    "recall = recall_score(test_y_1, yhat_onehot,average='weighted')\n",
    "print('Recall: %f' % recall)\n",
    "# f1: 2 tp / (2 tp + fp + fn)\n",
    "f1 = f1_score(test_y_1, yhat_onehot,average='weighted')\n",
    "print('F1 score: %f' % f1)"
   ]
  },
  {
   "cell_type": "code",
   "execution_count": null,
   "id": "c055ee0a",
   "metadata": {},
   "outputs": [],
   "source": []
  },
  {
   "cell_type": "code",
   "execution_count": null,
   "id": "005b33d2",
   "metadata": {},
   "outputs": [],
   "source": []
  },
  {
   "cell_type": "code",
   "execution_count": null,
   "id": "627fdce2",
   "metadata": {},
   "outputs": [],
   "source": []
  },
  {
   "cell_type": "code",
   "execution_count": null,
   "id": "821f2940",
   "metadata": {},
   "outputs": [],
   "source": []
  }
 ],
 "metadata": {
  "kernelspec": {
   "display_name": "Python 3",
   "language": "python",
   "name": "python3"
  },
  "language_info": {
   "codemirror_mode": {
    "name": "ipython",
    "version": 3
   },
   "file_extension": ".py",
   "mimetype": "text/x-python",
   "name": "python",
   "nbconvert_exporter": "python",
   "pygments_lexer": "ipython3",
   "version": "3.9.13"
  }
 },
 "nbformat": 4,
 "nbformat_minor": 5
}
